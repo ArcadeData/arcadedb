{
 "cells": [
  {
   "cell_type": "markdown",
   "id": "19160f36",
   "metadata": {},
   "source": [
    "# ArcadeDB Python Bindings - Complete Guide\n",
    "\n",
    "This notebook provides a comprehensive walkthrough of ArcadeDB's Python bindings, covering all major features:\n",
    "\n",
    "- 📁 Database creation and management\n",
    "- 📝 Document operations (CRUD)\n",
    "- 🔄 Graph operations (vertices & edges)\n",
    "- 💾 Transactions\n",
    "- 🔍 Multiple query languages (SQL, Cypher, Gremlin)\n",
    "- 🎯 Vector storage for embeddings\n",
    "- 🌐 Server mode with Studio UI\n",
    "- 🧹 Resource management best practices\n",
    "\n",
    "**Requirements**: \n",
    "- ArcadeDB Python bindings installed (`pip install arcadedb-embedded-full`)\n",
    "- Java Runtime Environment (JRE) installed"
   ]
  },
  {
   "cell_type": "markdown",
   "id": "e27c5b18",
   "metadata": {},
   "source": [
    "## 1. Setup & Imports\n",
    "\n",
    "First, let's import the library and check the version:\n",
    "\n",
    "**Note**: If you encounter Java version issues, ensure `JAVA_HOME` is set correctly:"
   ]
  },
  {
   "cell_type": "code",
   "execution_count": 1,
   "id": "21a042bd",
   "metadata": {},
   "outputs": [
    {
     "name": "stdout",
     "output_type": "stream",
     "text": [
      "ArcadeDB Python Bindings Version: 25.10.1\n",
      "Module Location: /home/tk/repos/arcadedb/.venv/lib/python3.11/site-packages/arcadedb_embedded/__init__.py\n",
      "\n",
      "📁 Using temporary directory: /tmp/arcadedb_demo_b4t5h7v9\n"
     ]
    }
   ],
   "source": [
    "import arcadedb_embedded as arcadedb\n",
    "import tempfile\n",
    "import shutil\n",
    "from pathlib import Path\n",
    "\n",
    "# Check version\n",
    "print(f\"ArcadeDB Python Bindings Version: {arcadedb.__version__}\")\n",
    "print(f\"Module Location: {arcadedb.__file__}\")\n",
    "\n",
    "# Create a temporary directory for our examples\n",
    "TEMP_DIR = Path(tempfile.mkdtemp(prefix=\"arcadedb_demo_\"))\n",
    "print(f\"\\n📁 Using temporary directory: {TEMP_DIR}\")"
   ]
  },
  {
   "cell_type": "markdown",
   "id": "6fbc2e82",
   "metadata": {},
   "source": [
    "## 2. Creating a Database\n",
    "\n",
    "ArcadeDB supports embedded mode (direct file access) with no network required. Let's create a database:"
   ]
  },
  {
   "cell_type": "code",
   "execution_count": 2,
   "id": "348a9779",
   "metadata": {},
   "outputs": [
    {
     "name": "stdout",
     "output_type": "stream",
     "text": [
      "✅ Database created at: /tmp/arcadedb_demo_b4t5h7v9/mydb\n",
      "📊 Database is open: True\n",
      "🏷️  Database name: mydb\n"
     ]
    },
    {
     "name": "stderr",
     "output_type": "stream",
     "text": [
      "[To redirect Truffle log output to a file use one of the following options:\n",
      "* '--log.file=<path>' if the option is passed using a guest language launcher.\n",
      "* '-Dpolyglot.log.file=<path>' if the option is passed using the host Java launcher.\n",
      "* Configure logging using the polyglot embedding API.]\n",
      "[engine] WARNING: The polyglot engine uses a fallback runtime that does not support runtime compilation to native code.\n",
      "Execution without runtime compilation will negatively impact the guest application performance.\n",
      "The following cause was found: JVMCI is not enabled for this JVM. Enable JVMCI using -XX:+EnableJVMCI.\n",
      "For more information see: https://www.graalvm.org/latest/reference-manual/embed-languages/#runtime-optimization-support.\n",
      "To disable this warning use the '--engine.WarnInterpreterOnly=false' option or the '-Dpolyglot.engine.WarnInterpreterOnly=false' system property.\n",
      "\n",
      "2025-10-18 21:48:02.438 WARNI [PaginatedComponentFile] Unable to disable channel close on interrupt: Unable to make field private sun.nio.ch.Interruptible java.nio.channels.spi.AbstractInterruptibleChannel.interruptor accessible: module java.base does not \"opens java.nio.channels.spi\" to unnamed module @5b8bc155"
     ]
    }
   ],
   "source": [
    "# Create database using context manager (recommended - automatic cleanup)\n",
    "db_path = TEMP_DIR / \"mydb\"\n",
    "db = arcadedb.create_database(str(db_path))\n",
    "\n",
    "print(f\"✅ Database created at: {db_path}\")\n",
    "print(f\"📊 Database is open: {db.is_open()}\")\n",
    "print(f\"🏷️  Database name: {db.get_name()}\")"
   ]
  },
  {
   "cell_type": "markdown",
   "id": "0523c68e",
   "metadata": {},
   "source": [
    "## 3. Document Operations\n",
    "\n",
    "Let's create a schema and perform CRUD operations on documents:"
   ]
  },
  {
   "cell_type": "code",
   "execution_count": 3,
   "id": "531cd630",
   "metadata": {},
   "outputs": [
    {
     "name": "stdout",
     "output_type": "stream",
     "text": [
      "✅ Schema created: Person type with name, age, email properties\n"
     ]
    }
   ],
   "source": [
    "# Create document type (schema)\n",
    "with db.transaction():\n",
    "    db.command(\"sql\", \"CREATE DOCUMENT TYPE Person\")\n",
    "    db.command(\"sql\", \"CREATE PROPERTY Person.name STRING\")\n",
    "    db.command(\"sql\", \"CREATE PROPERTY Person.age INTEGER\")\n",
    "    db.command(\"sql\", \"CREATE PROPERTY Person.email STRING\")\n",
    "\n",
    "print(\"✅ Schema created: Person type with name, age, email properties\")"
   ]
  },
  {
   "cell_type": "code",
   "execution_count": 4,
   "id": "93cbe810",
   "metadata": {},
   "outputs": [
    {
     "name": "stdout",
     "output_type": "stream",
     "text": [
      "✅ Inserted 4 people into the database\n"
     ]
    }
   ],
   "source": [
    "# Insert documents (CREATE)\n",
    "with db.transaction():\n",
    "    db.command(\"sql\", \"INSERT INTO Person SET name = 'Alice Johnson', age = 30, email = 'alice@example.com'\")\n",
    "    db.command(\"sql\", \"INSERT INTO Person SET name = 'Bob Smith', age = 25, email = 'bob@example.com'\")\n",
    "    db.command(\"sql\", \"INSERT INTO Person SET name = 'Charlie Brown', age = 35, email = 'charlie@example.com'\")\n",
    "    db.command(\"sql\", \"INSERT INTO Person SET name = 'Diana Prince', age = 28, email = 'diana@example.com'\")\n",
    "\n",
    "print(\"✅ Inserted 4 people into the database\")"
   ]
  },
  {
   "cell_type": "code",
   "execution_count": 5,
   "id": "b25b4a7f",
   "metadata": {},
   "outputs": [
    {
     "name": "stdout",
     "output_type": "stream",
     "text": [
      "📊 Found 3 people over 25 years old:\n",
      "\n",
      "  • Alice Johnson (age 30) - alice@example.com\n",
      "  • Charlie Brown (age 35) - charlie@example.com\n",
      "  • Diana Prince (age 28) - diana@example.com\n"
     ]
    }
   ],
   "source": [
    "# Query documents (READ)\n",
    "result = db.query(\"sql\", \"SELECT FROM Person WHERE age > 25\")\n",
    "\n",
    "print(f\"📊 Found {len(list(result))} people over 25 years old:\\n\")\n",
    "\n",
    "# Re-query to iterate (ResultSet can only be iterated once)\n",
    "result = db.query(\"sql\", \"SELECT FROM Person WHERE age > 25\")\n",
    "for person in result:\n",
    "    name = person.get_property('name')\n",
    "    age = person.get_property('age')\n",
    "    email = person.get_property('email')\n",
    "    print(f\"  • {name} (age {age}) - {email}\")"
   ]
  },
  {
   "cell_type": "code",
   "execution_count": 6,
   "id": "b0ae1413",
   "metadata": {},
   "outputs": [
    {
     "name": "stdout",
     "output_type": "stream",
     "text": [
      "✅ Updated Alice's age to 31\n",
      "   Alice's new age: 31\n"
     ]
    }
   ],
   "source": [
    "# Update documents (UPDATE)\n",
    "with db.transaction():\n",
    "    db.command(\"sql\", \"UPDATE Person SET age = 31 WHERE name = 'Alice Johnson'\")\n",
    "\n",
    "print(\"✅ Updated Alice's age to 31\")\n",
    "\n",
    "# Verify update\n",
    "result = db.query(\"sql\", \"SELECT FROM Person WHERE name = 'Alice Johnson'\")\n",
    "alice = list(result)[0]\n",
    "print(f\"   Alice's new age: {alice.get_property('age')}\")"
   ]
  },
  {
   "cell_type": "markdown",
   "id": "d2cadf8b",
   "metadata": {},
   "source": [
    "## 4. Working with ResultSet\n",
    "\n",
    "The ResultSet object provides various methods to work with query results:"
   ]
  },
  {
   "cell_type": "code",
   "execution_count": 7,
   "id": "ebc282fe",
   "metadata": {},
   "outputs": [
    {
     "name": "stdout",
     "output_type": "stream",
     "text": [
      "🔍 Property Methods:\n",
      "  has_property('name'): True\n",
      "  has_property('salary'): False\n",
      "\n",
      "📋 Property names: ['name', 'age', 'email']\n",
      "\n",
      "📦 to_dict(): {'name': 'Bob Smith', 'age': 25, 'email': 'bob@example.com'}\n",
      "\n",
      "📄 to_json():\n",
      "{\"name\":\"Bob Smith\",\"age\":25,\"email\":\"bob@example.com\",\"@props\":\"name:7,age:1,email:7\",\"@cat\":\"d\",\"@type\":\"Person\",\"@rid\":\"#1:1\"}\n"
     ]
    }
   ],
   "source": [
    "result = db.query(\"sql\", \"SELECT FROM Person WHERE name = 'Bob Smith'\")\n",
    "bob = list(result)[0]\n",
    "\n",
    "# Check properties\n",
    "print(\"🔍 Property Methods:\")\n",
    "print(f\"  has_property('name'): {bob.has_property('name')}\")\n",
    "print(f\"  has_property('salary'): {bob.has_property('salary')}\")\n",
    "\n",
    "# Get all property names\n",
    "print(f\"\\n📋 Property names: {bob.get_property_names()}\")\n",
    "\n",
    "# Convert to dictionary\n",
    "print(f\"\\n📦 to_dict(): {bob.to_dict()}\")\n",
    "\n",
    "# Convert to JSON string\n",
    "print(f\"\\n📄 to_json():\\n{bob.to_json()}\")"
   ]
  },
  {
   "cell_type": "markdown",
   "id": "2d28d7a5",
   "metadata": {},
   "source": [
    "## 5. Graph Operations\n",
    "\n",
    "ArcadeDB is a multi-model database. Let's create a graph with vertices and edges:"
   ]
  },
  {
   "cell_type": "code",
   "execution_count": 8,
   "id": "91d4b36d",
   "metadata": {},
   "outputs": [
    {
     "name": "stdout",
     "output_type": "stream",
     "text": [
      "✅ Created graph schema: User vertices with Follows and Likes edges\n"
     ]
    }
   ],
   "source": [
    "# Create graph schema\n",
    "with db.transaction():\n",
    "    db.command(\"sql\", \"CREATE VERTEX TYPE User\")\n",
    "    db.command(\"sql\", \"CREATE EDGE TYPE Follows\")\n",
    "    db.command(\"sql\", \"CREATE EDGE TYPE Likes\")\n",
    "\n",
    "print(\"✅ Created graph schema: User vertices with Follows and Likes edges\")"
   ]
  },
  {
   "cell_type": "code",
   "execution_count": 9,
   "id": "be24848e",
   "metadata": {},
   "outputs": [
    {
     "name": "stdout",
     "output_type": "stream",
     "text": [
      "✅ Created 4 user vertices\n"
     ]
    }
   ],
   "source": [
    "# Create vertices\n",
    "with db.transaction():\n",
    "    db.command(\"sql\", \"CREATE VERTEX User SET username = 'alice', followers = 0\")\n",
    "    db.command(\"sql\", \"CREATE VERTEX User SET username = 'bob', followers = 0\")\n",
    "    db.command(\"sql\", \"CREATE VERTEX User SET username = 'charlie', followers = 0\")\n",
    "    db.command(\"sql\", \"CREATE VERTEX User SET username = 'diana', followers = 0\")\n",
    "\n",
    "print(\"✅ Created 4 user vertices\")"
   ]
  },
  {
   "cell_type": "code",
   "execution_count": 10,
   "id": "9e5a688a",
   "metadata": {},
   "outputs": [
    {
     "name": "stdout",
     "output_type": "stream",
     "text": [
      "✅ Created follow relationships\n"
     ]
    }
   ],
   "source": [
    "# Create edges (relationships)\n",
    "with db.transaction():\n",
    "    # Alice follows Bob and Charlie\n",
    "    db.command(\"sql\", \"\"\"\n",
    "        CREATE EDGE Follows\n",
    "        FROM (SELECT FROM User WHERE username = 'alice')\n",
    "        TO (SELECT FROM User WHERE username = 'bob')\n",
    "    \"\"\")\n",
    "    db.command(\"sql\", \"\"\"\n",
    "        CREATE EDGE Follows\n",
    "        FROM (SELECT FROM User WHERE username = 'alice')\n",
    "        TO (SELECT FROM User WHERE username = 'charlie')\n",
    "    \"\"\")\n",
    "    \n",
    "    # Bob follows Charlie\n",
    "    db.command(\"sql\", \"\"\"\n",
    "        CREATE EDGE Follows\n",
    "        FROM (SELECT FROM User WHERE username = 'bob')\n",
    "        TO (SELECT FROM User WHERE username = 'charlie')\n",
    "    \"\"\")\n",
    "    \n",
    "    # Diana follows Alice\n",
    "    db.command(\"sql\", \"\"\"\n",
    "        CREATE EDGE Follows\n",
    "        FROM (SELECT FROM User WHERE username = 'diana')\n",
    "        TO (SELECT FROM User WHERE username = 'alice')\n",
    "    \"\"\")\n",
    "\n",
    "print(\"✅ Created follow relationships\")"
   ]
  },
  {
   "cell_type": "code",
   "execution_count": 11,
   "id": "f9aabead",
   "metadata": {},
   "outputs": [
    {
     "name": "stdout",
     "output_type": "stream",
     "text": [
      "👤 Alice follows:\n",
      "  • charlie\n",
      "  • bob\n"
     ]
    }
   ],
   "source": [
    "# Graph traversal - Who does Alice follow?\n",
    "result = db.query(\"sql\", \"\"\"\n",
    "    SELECT expand(out('Follows').username)\n",
    "    FROM User\n",
    "    WHERE username = 'alice'\n",
    "\"\"\")\n",
    "\n",
    "print(\"👤 Alice follows:\")\n",
    "for record in result:\n",
    "    username = record.get_property('value')\n",
    "    print(f\"  • {username}\")"
   ]
  },
  {
   "cell_type": "code",
   "execution_count": 12,
   "id": "d1034e69",
   "metadata": {},
   "outputs": [
    {
     "name": "stdout",
     "output_type": "stream",
     "text": [
      "👥 Alice's followers:\n",
      "  • diana\n"
     ]
    }
   ],
   "source": [
    "# Who follows Alice? (incoming edges)\n",
    "result = db.query(\"sql\", \"\"\"\n",
    "    SELECT expand(in('Follows').username)\n",
    "    FROM User\n",
    "    WHERE username = 'alice'\n",
    "\"\"\")\n",
    "\n",
    "print(\"👥 Alice's followers:\")\n",
    "for record in result:\n",
    "    username = record.get_property('value')\n",
    "    print(f\"  • {username}\")"
   ]
  },
  {
   "cell_type": "markdown",
   "id": "3c049074",
   "metadata": {},
   "source": [
    "## 6. Transactions\n",
    "\n",
    "Transactions ensure ACID compliance. Let's see how to use them:"
   ]
  },
  {
   "cell_type": "code",
   "execution_count": 13,
   "id": "8ddf135f",
   "metadata": {},
   "outputs": [
    {
     "name": "stdout",
     "output_type": "stream",
     "text": [
      "💾 Transaction with context manager:\n",
      "  ✅ Transaction committed successfully\n",
      "  📊 Total people in database: 6\n"
     ]
    }
   ],
   "source": [
    "# Context manager (recommended) - automatic commit/rollback\n",
    "print(\"💾 Transaction with context manager:\")\n",
    "\n",
    "try:\n",
    "    with db.transaction():\n",
    "        db.command(\"sql\", \"INSERT INTO Person SET name = 'Eve Wilson', age = 40, email = 'eve@example.com'\")\n",
    "        db.command(\"sql\", \"INSERT INTO Person SET name = 'Frank Miller', age = 45, email = 'frank@example.com'\")\n",
    "        # Transaction auto-commits if no exceptions\n",
    "    print(\"  ✅ Transaction committed successfully\")\n",
    "except Exception as e:\n",
    "    print(f\"  ❌ Transaction failed: {e}\")\n",
    "\n",
    "# Verify\n",
    "result = db.query(\"sql\", \"SELECT count(*) as count FROM Person\")\n",
    "count = list(result)[0].get_property('count')\n",
    "print(f\"  📊 Total people in database: {count}\")"
   ]
  },
  {
   "cell_type": "code",
   "execution_count": 14,
   "id": "864f15ee",
   "metadata": {},
   "outputs": [
    {
     "name": "stdout",
     "output_type": "stream",
     "text": [
      "\n",
      "🔄 Transaction with rollback:\n",
      "  Inserted Grace Hopper\n",
      "  ⚠️  Exception caught: Intentional error to trigger rollback\n",
      "  ↩️  Transaction automatically rolled back\n",
      "  📊 Grace Hopper records found: 0 (should be 0)\n"
     ]
    }
   ],
   "source": [
    "# Transaction with intentional rollback\n",
    "print(\"\\n🔄 Transaction with rollback:\")\n",
    "\n",
    "try:\n",
    "    with db.transaction():\n",
    "        db.command(\"sql\", \"INSERT INTO Person SET name = 'Grace Hopper', age = 50, email = 'grace@example.com'\")\n",
    "        print(\"  Inserted Grace Hopper\")\n",
    "        \n",
    "        # Simulate an error\n",
    "        raise Exception(\"Intentional error to trigger rollback\")\n",
    "        \n",
    "except Exception as e:\n",
    "    print(f\"  ⚠️  Exception caught: {e}\")\n",
    "    print(\"  ↩️  Transaction automatically rolled back\")\n",
    "\n",
    "# Verify Grace was NOT inserted\n",
    "result = db.query(\"sql\", \"SELECT FROM Person WHERE name = 'Grace Hopper'\")\n",
    "found = len(list(result))\n",
    "print(f\"  📊 Grace Hopper records found: {found} (should be 0)\")"
   ]
  },
  {
   "cell_type": "markdown",
   "id": "9ae45b6d",
   "metadata": {},
   "source": [
    "## 7. Multiple Query Languages\n",
    "\n",
    "ArcadeDB supports multiple query languages. Let's try Cypher and Gremlin (if available):"
   ]
  },
  {
   "cell_type": "code",
   "execution_count": 15,
   "id": "1271a120",
   "metadata": {},
   "outputs": [
    {
     "name": "stdout",
     "output_type": "stream",
     "text": [
      "🔷 Cypher Query Language:\n",
      "\n",
      "  ⏭️  Cypher not available in this distribution (need full distribution)\n"
     ]
    }
   ],
   "source": [
    "# Cypher queries (if Cypher engine is available)\n",
    "print(\"🔷 Cypher Query Language:\\n\")\n",
    "\n",
    "try:\n",
    "    # Query using Cypher\n",
    "    result = db.query(\"cypher\", \"MATCH (u:User) WHERE u.username = 'alice' RETURN u.username as username\")\n",
    "    users = list(result)\n",
    "    \n",
    "    if users:\n",
    "        print(f\"  ✅ Found user via Cypher: {users[0].get_property('username')}\")\n",
    "    \n",
    "except Exception as e:\n",
    "    if \"Query engine 'cypher' was not found\" in str(e):\n",
    "        print(\"  ⏭️  Cypher not available in this distribution (need full distribution)\")\n",
    "    else:\n",
    "        print(f\"  ❌ Error: {e}\")"
   ]
  },
  {
   "cell_type": "code",
   "execution_count": 16,
   "id": "7567e6c7",
   "metadata": {},
   "outputs": [
    {
     "name": "stdout",
     "output_type": "stream",
     "text": [
      "\n",
      "🟢 Gremlin Query Language:\n",
      "\n",
      "  ⏭️  Gremlin not available (requires full distribution)\n"
     ]
    }
   ],
   "source": [
    "# Gremlin queries (only in full distribution)\n",
    "print(\"\\n🟢 Gremlin Query Language:\\n\")\n",
    "\n",
    "try:\n",
    "    # Query using Gremlin\n",
    "    result = db.query(\"gremlin\", \"g.V().hasLabel('User').has('username', 'bob').values('username')\")\n",
    "    usernames = list(result)\n",
    "    \n",
    "    if usernames:\n",
    "        print(f\"  ✅ Found user via Gremlin: {usernames[0].get_property('value')}\")\n",
    "    \n",
    "except Exception as e:\n",
    "    if \"gremlin\" in str(e).lower():\n",
    "        print(\"  ⏭️  Gremlin not available (requires full distribution)\")\n",
    "    else:\n",
    "        print(f\"  ❌ Error: {e}\")"
   ]
  },
  {
   "cell_type": "markdown",
   "id": "4ff2a8f2",
   "metadata": {},
   "source": [
    "## 8. Vector Storage with HNSW Similarity Search\n",
    "\n",
    "Store vector embeddings with HNSW (Hierarchical Navigable Small World) indexing for efficient nearest-neighbor similarity search.\n",
    "\n",
    "**Installation**: For optimal performance with vectors, install with NumPy support:\n",
    "```bash\n",
    "pip install arcadedb-embedded-full[vector]  # Includes NumPy\n",
    "```\n",
    "\n",
    "The vector API works with both NumPy arrays and plain Python lists!"
   ]
  },
  {
   "cell_type": "code",
   "execution_count": 17,
   "id": "7d2277a3",
   "metadata": {},
   "outputs": [
    {
     "name": "stdout",
     "output_type": "stream",
     "text": [
      "✅ NumPy available - will use np.array for vectors\n",
      "✅ Created EmbeddingNode vertex type for storing vectors with HNSW indexing\n",
      "✅ Created EmbeddingNode vertex type for storing vectors with HNSW indexing\n"
     ]
    }
   ],
   "source": [
    "# Try to import NumPy (optional, but recommended for performance)\n",
    "try:\n",
    "    import numpy as np\n",
    "    use_numpy = True\n",
    "    print(\"✅ NumPy available - will use np.array for vectors\")\n",
    "except ImportError:\n",
    "    use_numpy = False\n",
    "    print(\"⚠️  NumPy not available - will use Python lists (install with: pip install numpy)\")\n",
    "\n",
    "# Create vertex type for vector embeddings\n",
    "with db.transaction():\n",
    "    db.command(\"sql\", \"CREATE VERTEX TYPE EmbeddingNode\")\n",
    "    db.command(\"sql\", \"CREATE PROPERTY EmbeddingNode.name STRING\")\n",
    "    # Use ARRAY_OF_FLOATS for vector property (required for HNSW)\n",
    "    db.command(\"sql\", \"CREATE PROPERTY EmbeddingNode.vector ARRAY_OF_FLOATS\")\n",
    "    # Create unique index on name for lookups\n",
    "    db.command(\"sql\", \"CREATE INDEX ON EmbeddingNode (name) UNIQUE\")\n",
    "\n",
    "print(\"✅ Created EmbeddingNode vertex type for storing vectors with HNSW indexing\")"
   ]
  },
  {
   "cell_type": "code",
   "execution_count": 18,
   "id": "3cfa17cb",
   "metadata": {},
   "outputs": [
    {
     "name": "stdout",
     "output_type": "stream",
     "text": [
      "✅ Inserted 6 word embeddings\n",
      "   Format: NumPy arrays\n"
     ]
    }
   ],
   "source": [
    "# Insert sample word embeddings (4-dimensional for simplicity)\n",
    "# In production, embeddings would typically be 300-1536 dimensions\n",
    "\n",
    "if use_numpy:\n",
    "    embeddings = [\n",
    "        (\"king\", np.array([0.5, 0.3, 0.1, 0.2])),\n",
    "        (\"queen\", np.array([0.52, 0.32, 0.08, 0.18])),  # Similar to king\n",
    "        (\"man\", np.array([0.48, 0.25, 0.15, 0.22])),\n",
    "        (\"woman\", np.array([0.50, 0.28, 0.12, 0.20])),\n",
    "        (\"cat\", np.array([0.1, 0.8, 0.6, 0.3])),        # Different cluster\n",
    "        (\"dog\", np.array([0.12, 0.82, 0.58, 0.32])),    # Similar to cat\n",
    "    ]\n",
    "else:\n",
    "    embeddings = [\n",
    "        (\"king\", [0.5, 0.3, 0.1, 0.2]),\n",
    "        (\"queen\", [0.52, 0.32, 0.08, 0.18]),\n",
    "        (\"man\", [0.48, 0.25, 0.15, 0.22]),\n",
    "        (\"woman\", [0.50, 0.28, 0.12, 0.20]),\n",
    "        (\"cat\", [0.1, 0.8, 0.6, 0.3]),\n",
    "        (\"dog\", [0.12, 0.82, 0.58, 0.32]),\n",
    "    ]\n",
    "\n",
    "with db.transaction():\n",
    "    for name, vector in embeddings:\n",
    "        # Use the helper function to convert to Java float array\n",
    "        # Works with both NumPy arrays and Python lists!\n",
    "        java_vector = arcadedb.to_java_float_array(vector)\n",
    "        \n",
    "        # Create vertex with vector property\n",
    "        java_db = db._java_db\n",
    "        vertex = java_db.newVertex(\"EmbeddingNode\")\n",
    "        vertex.set(\"name\", name)\n",
    "        vertex.set(\"vector\", java_vector)\n",
    "        vertex.save()\n",
    "\n",
    "print(f\"✅ Inserted {len(embeddings)} word embeddings\")\n",
    "print(f\"   Format: {'NumPy arrays' if use_numpy else 'Python lists'}\")"
   ]
  },
  {
   "cell_type": "code",
   "execution_count": 19,
   "id": "87b35d01",
   "metadata": {},
   "outputs": [
    {
     "name": "stdout",
     "output_type": "stream",
     "text": [
      "Creating HNSW vector index with simplified API...\n",
      "\n",
      "  ✓ Created HNSW vector index\n",
      "  Indexing existing vertices...\n",
      "  ✓ Indexed 6 vertices\n",
      "\n",
      "🎯 HNSW vector index ready for similarity search!\n",
      "  ✓ Created HNSW vector index\n",
      "  Indexing existing vertices...\n",
      "  ✓ Indexed 6 vertices\n",
      "\n",
      "🎯 HNSW vector index ready for similarity search!\n"
     ]
    }
   ],
   "source": [
    "# Create HNSW vector index using the simplified Python API\n",
    "print(\"Creating HNSW vector index with simplified API...\\n\")\n",
    "\n",
    "# Create the index - Python API handles all the Java complexity!\n",
    "with db.transaction():\n",
    "    index = db.create_vector_index(\n",
    "        vertex_type=\"EmbeddingNode\",\n",
    "        vector_property=\"vector\",\n",
    "        dimensions=4,\n",
    "        id_property=\"name\",\n",
    "        distance_function=\"cosine\",  # or \"euclidean\", \"inner_product\"\n",
    "        m=16,                        # HNSW M parameter\n",
    "        ef=128,                      # Search quality parameter\n",
    "        max_items=1000\n",
    "    )\n",
    "\n",
    "print(\"  ✓ Created HNSW vector index\")\n",
    "\n",
    "# Index existing vertices\n",
    "print(\"  Indexing existing vertices...\")\n",
    "result = db.query(\"sql\", \"SELECT FROM EmbeddingNode\")\n",
    "indexed_count = 0\n",
    "\n",
    "with db.transaction():\n",
    "    for record in result:\n",
    "        vertex = record._java_result.getElement().get().asVertex()\n",
    "        index.add_vertex(vertex)\n",
    "        indexed_count += 1\n",
    "\n",
    "print(f\"  ✓ Indexed {indexed_count} vertices\")\n",
    "print(\"\\n🎯 HNSW vector index ready for similarity search!\")"
   ]
  },
  {
   "cell_type": "code",
   "execution_count": 20,
   "id": "1c1453df",
   "metadata": {},
   "outputs": [
    {
     "name": "stdout",
     "output_type": "stream",
     "text": [
      "Testing nearest-neighbor similarity search...\n",
      "\n",
      "  3 nearest neighbors to 'king': ['king', 'woman', 'queen']\n",
      "  ✓ Expected: queen, man, woman (similar embeddings)\n",
      "\n",
      "  Detailed results:\n",
      "    • king: distance = 0.0000\n",
      "    • woman: distance = 0.0010\n",
      "    • queen: distance = 0.0016\n",
      "\n",
      "  2 nearest neighbors to 'cat': ['cat', 'dog']\n",
      "  ✓ Expected: dog (different cluster from king/queen)\n",
      "\n",
      "✅ HNSW vector similarity search working correctly!\n",
      "💡 This enables semantic search, recommendation systems, and RAG applications\n",
      "💡 API works seamlessly with NumPy arrays!\n",
      "\n",
      "  2 nearest neighbors to 'cat': ['cat', 'dog']\n",
      "  ✓ Expected: dog (different cluster from king/queen)\n",
      "\n",
      "✅ HNSW vector similarity search working correctly!\n",
      "💡 This enables semantic search, recommendation systems, and RAG applications\n",
      "💡 API works seamlessly with NumPy arrays!\n"
     ]
    }
   ],
   "source": [
    "# Perform nearest-neighbor similarity search using the simplified API\n",
    "print(\"Testing nearest-neighbor similarity search...\\n\")\n",
    "\n",
    "# Search for neighbors of \"king\" - should find \"queen\", \"man\", \"woman\"\n",
    "if use_numpy:\n",
    "    king_vector = np.array([0.5, 0.3, 0.1, 0.2])\n",
    "else:\n",
    "    king_vector = [0.5, 0.3, 0.1, 0.2]\n",
    "\n",
    "# find_nearest() accepts both NumPy arrays and Python lists!\n",
    "neighbors = index.find_nearest(king_vector, k=3)\n",
    "\n",
    "# Extract names from results\n",
    "neighbor_names = [str(vertex.get(\"name\")) for vertex, distance in neighbors]\n",
    "\n",
    "print(f\"  3 nearest neighbors to 'king': {neighbor_names}\")\n",
    "print(f\"  ✓ Expected: queen, man, woman (similar embeddings)\")\n",
    "\n",
    "# Show distances\n",
    "print(\"\\n  Detailed results:\")\n",
    "for vertex, distance in neighbors:\n",
    "    name = str(vertex.get(\"name\"))\n",
    "    print(f\"    • {name}: distance = {distance:.4f}\")\n",
    "\n",
    "# Search for neighbors of \"cat\" - should find \"dog\"\n",
    "if use_numpy:\n",
    "    cat_vector = np.array([0.1, 0.8, 0.6, 0.3])\n",
    "else:\n",
    "    cat_vector = [0.1, 0.8, 0.6, 0.3]\n",
    "\n",
    "neighbors = index.find_nearest(cat_vector, k=2)\n",
    "neighbor_names = [str(vertex.get(\"name\")) for vertex, distance in neighbors]\n",
    "\n",
    "print(f\"\\n  2 nearest neighbors to 'cat': {neighbor_names}\")\n",
    "print(f\"  ✓ Expected: dog (different cluster from king/queen)\")\n",
    "\n",
    "print(\"\\n✅ HNSW vector similarity search working correctly!\")\n",
    "print(\"💡 This enables semantic search, recommendation systems, and RAG applications\")\n",
    "print(f\"💡 API works seamlessly with {'NumPy arrays' if use_numpy else 'Python lists'}!\")"
   ]
  },
  {
   "cell_type": "code",
   "execution_count": 21,
   "id": "5c1d36cd",
   "metadata": {},
   "outputs": [
    {
     "name": "stdout",
     "output_type": "stream",
     "text": [
      "\n",
      "🔧 Vector Utility Functions:\n",
      "\n",
      "  Original vector type: <class 'numpy.ndarray'>\n",
      "  Vector values: [0.5 0.3 0.1 0.2]\n",
      "  NumPy shape: (4,)\n",
      "  NumPy dtype: float32\n",
      "\n",
      "  ✓ Round-trip conversion: Python → Java → Python → Java\n",
      "  💡 These utilities make it easy to work with vectors in your preferred format!\n"
     ]
    }
   ],
   "source": [
    "# Demonstrate utility functions for vector conversions\n",
    "print(\"\\n🔧 Vector Utility Functions:\\n\")\n",
    "\n",
    "# Query a vector and convert it back to Python\n",
    "result = db.query(\"sql\", \"SELECT FROM EmbeddingNode WHERE name = 'king'\")\n",
    "king_node = list(result)[0]\n",
    "java_vector = king_node.get_property('vector')\n",
    "\n",
    "# Convert to Python array (with optional NumPy)\n",
    "python_vector = arcadedb.to_python_array(java_vector, use_numpy=use_numpy)\n",
    "\n",
    "print(f\"  Original vector type: {type(python_vector)}\")\n",
    "print(f\"  Vector values: {python_vector}\")\n",
    "\n",
    "if use_numpy:\n",
    "    print(f\"  NumPy shape: {python_vector.shape}\")\n",
    "    print(f\"  NumPy dtype: {python_vector.dtype}\")\n",
    "\n",
    "# Convert back to Java array\n",
    "java_again = arcadedb.to_java_float_array(python_vector)\n",
    "print(f\"\\n  ✓ Round-trip conversion: Python → Java → Python → Java\")\n",
    "print(\"  💡 These utilities make it easy to work with vectors in your preferred format!\")"
   ]
  },
  {
   "cell_type": "markdown",
   "id": "c47b94e3",
   "metadata": {},
   "source": [
    "## 9. Server Mode with Studio UI\n",
    "\n",
    "For development and visualization, you can start an HTTP server with the Studio web interface:"
   ]
  },
  {
   "cell_type": "code",
   "execution_count": 22,
   "id": "2995667e",
   "metadata": {},
   "outputs": [
    {
     "name": "stdout",
     "output_type": "stream",
     "text": [
      "🌐 Server Mode Example:\n",
      "\n",
      "Server mode is not demonstrated in this notebook to avoid port conflicts.\n",
      "Here's how you would use it in a script:\n",
      "\n",
      "\n",
      "from arcadedb_embedded import create_server\n",
      "\n",
      "# Start server with context manager\n",
      "with create_server(\"./databases\", root_password=\"mypassword\") as server:\n",
      "    print(f\"Studio UI: {server.get_studio_url()}\")  # http://localhost:2480\n",
      "    print(f\"HTTP Port: {server.get_http_port()}\")\n",
      "\n",
      "    # Create or get database through server\n",
      "    db = server.create_database(\"mydb\")\n",
      "\n",
      "    # Use database normally\n",
      "    with db.transaction():\n",
      "        db.command(\"sql\", \"CREATE DOCUMENT TYPE Product\")\n",
      "\n",
      "    # Database is accessible via HTTP API while server runs\n",
      "    # Server automatically stops when exiting context\n",
      "\n"
     ]
    }
   ],
   "source": [
    "# Note: Server mode requires minimal or full distribution\n",
    "print(\"🌐 Server Mode Example:\\n\")\n",
    "print(\"Server mode is not demonstrated in this notebook to avoid port conflicts.\")\n",
    "print(\"Here's how you would use it in a script:\\n\")\n",
    "\n",
    "example_code = '''\n",
    "from arcadedb_embedded import create_server\n",
    "\n",
    "# Start server with context manager\n",
    "with create_server(\"./databases\", root_password=\"mypassword\") as server:\n",
    "    print(f\"Studio UI: {server.get_studio_url()}\")  # http://localhost:2480\n",
    "    print(f\"HTTP Port: {server.get_http_port()}\")\n",
    "    \n",
    "    # Create or get database through server\n",
    "    db = server.create_database(\"mydb\")\n",
    "    \n",
    "    # Use database normally\n",
    "    with db.transaction():\n",
    "        db.command(\"sql\", \"CREATE DOCUMENT TYPE Product\")\n",
    "    \n",
    "    # Database is accessible via HTTP API while server runs\n",
    "    # Server automatically stops when exiting context\n",
    "'''\n",
    "\n",
    "print(example_code)"
   ]
  },
  {
   "cell_type": "markdown",
   "id": "d0545bce",
   "metadata": {},
   "source": [
    "## 10. Resource Management & Cleanup\n",
    "\n",
    "ArcadeDB provides multiple ways to ensure proper resource cleanup:"
   ]
  },
  {
   "cell_type": "code",
   "execution_count": 23,
   "id": "d919762a",
   "metadata": {},
   "outputs": [
    {
     "name": "stdout",
     "output_type": "stream",
     "text": [
      "🧹 Resource Management Best Practices:\n",
      "\n",
      "1️⃣  Context Manager (Recommended):\n",
      "   with arcadedb.create_database(path) as db:\n",
      "       # Use database\n",
      "   # Automatically closed\n",
      "\n",
      "2️⃣  Manual Close:\n",
      "   db = arcadedb.create_database(path)\n",
      "   try:\n",
      "       # Use database\n",
      "   finally:\n",
      "       db.close()\n",
      "\n",
      "3️⃣  Automatic Cleanup (Finalizer):\n",
      "   db = arcadedb.create_database(path)\n",
      "   # Use database\n",
      "   # Python garbage collector will call db.__del__() automatically\n",
      "\n",
      "✅ All methods ensure:\n",
      "   • Database files are closed properly\n",
      "   • No memory leaks\n",
      "   • No zombie processes (JVM runs as threads in Python process)\n"
     ]
    }
   ],
   "source": [
    "print(\"🧹 Resource Management Best Practices:\\n\")\n",
    "\n",
    "print(\"1️⃣  Context Manager (Recommended):\")\n",
    "print(\"   with arcadedb.create_database(path) as db:\")\n",
    "print(\"       # Use database\")\n",
    "print(\"   # Automatically closed\\n\")\n",
    "\n",
    "print(\"2️⃣  Manual Close:\")\n",
    "print(\"   db = arcadedb.create_database(path)\")\n",
    "print(\"   try:\")\n",
    "print(\"       # Use database\")\n",
    "print(\"   finally:\")\n",
    "print(\"       db.close()\\n\")\n",
    "\n",
    "print(\"3️⃣  Automatic Cleanup (Finalizer):\")\n",
    "print(\"   db = arcadedb.create_database(path)\")\n",
    "print(\"   # Use database\")\n",
    "print(\"   # Python garbage collector will call db.__del__() automatically\\n\")\n",
    "\n",
    "print(\"✅ All methods ensure:\")\n",
    "print(\"   • Database files are closed properly\")\n",
    "print(\"   • No memory leaks\")\n",
    "print(\"   • No zombie processes (JVM runs as threads in Python process)\")"
   ]
  },
  {
   "cell_type": "code",
   "execution_count": 24,
   "id": "c7faa497",
   "metadata": {},
   "outputs": [
    {
     "name": "stdout",
     "output_type": "stream",
     "text": [
      "✅ Database closed\n",
      "📊 Database is still open: False\n"
     ]
    }
   ],
   "source": [
    "# Close our database properly\n",
    "db.close()\n",
    "print(\"✅ Database closed\")\n",
    "print(f\"📊 Database is still open: {db.is_open()}\")"
   ]
  },
  {
   "cell_type": "markdown",
   "id": "579b1609",
   "metadata": {},
   "source": [
    "## 11. Cleanup Temporary Files\n",
    "\n",
    "Let's clean up the temporary directory we created:"
   ]
  },
  {
   "cell_type": "code",
   "execution_count": 25,
   "id": "99ed99c3",
   "metadata": {},
   "outputs": [
    {
     "name": "stdout",
     "output_type": "stream",
     "text": [
      "🗑️  Cleaned up temporary directory: /tmp/arcadedb_demo_b4t5h7v9\n"
     ]
    }
   ],
   "source": [
    "# Clean up the temporary directory\n",
    "shutil.rmtree(TEMP_DIR, ignore_errors=True)\n",
    "print(f\"🗑️  Cleaned up temporary directory: {TEMP_DIR}\")"
   ]
  },
  {
   "cell_type": "markdown",
   "id": "62403087",
   "metadata": {},
   "source": [
    "## 📚 Summary\n",
    "\n",
    "This notebook demonstrated all major features of ArcadeDB Python bindings:\n",
    "\n",
    "✅ **Database Operations**\n",
    "- Creating and managing databases\n",
    "- Document CRUD operations\n",
    "- Schema management\n",
    "\n",
    "✅ **Graph Operations**\n",
    "- Creating vertices and edges\n",
    "- Graph traversals (in/out relationships)\n",
    "- Multi-model data\n",
    "\n",
    "✅ **Transactions**\n",
    "- Context manager (automatic commit/rollback)\n",
    "- ACID compliance\n",
    "- Error handling\n",
    "\n",
    "✅ **Query Languages**\n",
    "- SQL (all distributions)\n",
    "- Cypher (full distribution)\n",
    "- Gremlin (full distribution)\n",
    "\n",
    "✅ **Vector Storage with HNSW (NEW! 🎉)**\n",
    "- Simplified Python API with NumPy support\n",
    "- `to_java_float_array()` and `to_python_array()` utilities\n",
    "- `VectorIndex` class for similarity search\n",
    "- `db.create_vector_index()` for easy index creation\n",
    "- Works with both NumPy arrays and Python lists\n",
    "- Cosine, Euclidean, and Inner Product distance functions\n",
    "- Perfect for embeddings, semantic search, RAG, and ML applications\n",
    "\n",
    "✅ **Resource Management**\n",
    "- Context managers\n",
    "- Manual cleanup\n",
    "- Automatic finalizers\n",
    "\n",
    "---\n",
    "\n",
    "### Next Steps\n",
    "\n",
    "1. **Install the appropriate distribution**:\n",
    "   - `arcadedb-embedded-headless` - Core features only (94 MB)\n",
    "   - `arcadedb-embedded-minimal` - + Server & Studio UI (97 MB)\n",
    "   - `arcadedb-embedded-full` - + Cypher & Gremlin (158 MB)\n",
    "   \n",
    "2. **For vector operations, install with NumPy**:\n",
    "   ```bash\n",
    "   pip install arcadedb-embedded-full[vector]  # Includes NumPy\n",
    "   ```\n",
    "\n",
    "3. **Explore the documentation**:\n",
    "   - [ArcadeDB Docs](https://docs.arcadedb.com)\n",
    "   - [Python Bindings README](../README.md)\n",
    "   - [HNSW Vector Index](https://docs.arcadedb.com/#Vector-Embedding)\n",
    "\n",
    "4. **Build your application**:\n",
    "   - Use embedded mode for direct file access\n",
    "   - Use server mode for web UI and HTTP API\n",
    "   - Combine multiple data models as needed\n",
    "   - Leverage HNSW with the simplified Python API for semantic search and ML applications\n",
    "\n",
    "**Happy coding! 🚀**"
   ]
  }
 ],
 "metadata": {
  "kernelspec": {
   "display_name": ".venv",
   "language": "python",
   "name": "python3"
  },
  "language_info": {
   "codemirror_mode": {
    "name": "ipython",
    "version": 3
   },
   "file_extension": ".py",
   "mimetype": "text/x-python",
   "name": "python",
   "nbconvert_exporter": "python",
   "pygments_lexer": "ipython3",
   "version": "3.11.13"
  }
 },
 "nbformat": 4,
 "nbformat_minor": 5
}
